{
 "cells": [
  {
   "cell_type": "raw",
   "metadata": {},
   "source": [
    "### Assignment2 : Build an experiment with four A8 nodes and four M3 nodes on Saclay site\n",
    "\n",
    "The nodes will have the traffic and consumption monitoring profiles activated.\n",
    "One A8 node will be installed with a Border Router firmware so that it will propagate IPV6 network (propagates the prefix).\n",
    "The second  A8 node will be installed with MQTT-SN Broker firmware running on the node  as a MQTT Broker.\n",
    "The third node will be installed with the application which contains a shell and a MQTT-SN client which connects to the Broker.\n",
    "\n",
    "### Submit an experiment on IoT-LAB\n",
    "\n",
    "1. Choose your site (grenoble|lille|saclay|strasbourg):"
   ]
  },
  {
   "cell_type": "code",
   "execution_count": 12,
   "metadata": {},
   "outputs": [
    {
     "name": "stdout",
     "output_type": "stream",
     "text": [
      "env: SITE=saclay\n"
     ]
    }
   ],
   "source": [
    "%env SITE=saclay"
   ]
  },
  {
   "cell_type": "code",
   "execution_count": 13,
   "metadata": {},
   "outputs": [
    {
     "name": "stdout",
     "output_type": "stream",
     "text": [
      "env: CHANNEL=19\n"
     ]
    }
   ],
   "source": [
    "%env CHANNEL=19"
   ]
  },
  {
   "cell_type": "code",
   "execution_count": 14,
   "metadata": {},
   "outputs": [
    {
     "name": "stdout",
     "output_type": "stream",
     "text": [
      "env: PAN_ID=0xBEEF\n"
     ]
    }
   ],
   "source": [
    "%env PAN_ID=0xBEEF"
   ]
  },
  {
   "cell_type": "code",
   "execution_count": 15,
   "metadata": {},
   "outputs": [
    {
     "name": "stdout",
     "output_type": "stream",
     "text": [
      "HTTP Error 500: \n",
      "\t{\"code\":500,\"message\":\"Profile consumptionm3 already exist\"}\n"
     ]
    }
   ],
   "source": [
    "!iotlab-profile addm3 -n consumptionm3 -power -voltage -current  -period 8244 -avg 4"
   ]
  },
  {
   "cell_type": "code",
   "execution_count": 6,
   "metadata": {},
   "outputs": [
    {
     "name": "stdout",
     "output_type": "stream",
     "text": [
      "{\n",
      "    \"consumption\": {\n",
      "        \"average\": 4,\n",
      "        \"current\": true,\n",
      "        \"period\": 8244,\n",
      "        \"power\": true,\n",
      "        \"voltage\": true\n",
      "    },\n",
      "    \"nodearch\": \"a8\",\n",
      "    \"power\": \"dc\",\n",
      "    \"profilename\": \"consumptiona8\"\n",
      "}\n"
     ]
    }
   ],
   "source": [
    "!iotlab-profile adda8 -n consumptiona8 -power -voltage -current -period 8244 -avg 4"
   ]
  },
  {
   "cell_type": "code",
   "execution_count": 16,
   "metadata": {},
   "outputs": [
    {
     "name": "stdout",
     "output_type": "stream",
     "text": [
      "{\n",
      "    \"id\": 271866\n",
      "}\n"
     ]
    }
   ],
   "source": [
    "!iotlab-experiment submit -n \"assignment2\" -d 120 -l 4,archi=a8:at86rf231+site=$SITE,,consumptiona8 -l 4,archi=m3:at86rf231+site=$SITE,,consumptionm3"
   ]
  },
  {
   "cell_type": "code",
   "execution_count": 17,
   "metadata": {},
   "outputs": [
    {
     "name": "stdout",
     "output_type": "stream",
     "text": [
      "Waiting that experiment 271866 gets in state Running\n",
      "\"Running\"\n"
     ]
    }
   ],
   "source": [
    "!iotlab-experiment wait --timeout 30 --cancel-on-timeout"
   ]
  },
  {
   "cell_type": "code",
   "execution_count": 18,
   "metadata": {},
   "outputs": [
    {
     "name": "stdout",
     "output_type": "stream",
     "text": [
      "[\n",
      "    \"a8-100.saclay.iot-lab.info\",\n",
      "    \"a8-101.saclay.iot-lab.info\",\n",
      "    \"a8-102.saclay.iot-lab.info\",\n",
      "    \"a8-103.saclay.iot-lab.info\",\n",
      "    \"m3-10.saclay.iot-lab.info\",\n",
      "    \"m3-11.saclay.iot-lab.info\",\n",
      "    \"m3-12.saclay.iot-lab.info\",\n",
      "    \"m3-9.saclay.iot-lab.info\"\n",
      "]\n"
     ]
    }
   ],
   "source": [
    "!iotlab-experiment --jmespath=\"items[*].network_address | sort(@)\" get --nodes"
   ]
  },
  {
   "cell_type": "markdown",
   "metadata": {},
   "source": [
    "### Deploy public IPv6 network\n",
    "\n",
    "1. Compile the RIOT gnrc_border router example\n",
    "\n",
    "A border router (BR) is a routing device to connect a wireless sensor network to the Internet based on IPv6 technology. Choose one node of your experiment which play the role of BR. Compile and flash BR firmware to this node. Replace `<id>` with the right value:"
   ]
  },
  {
   "cell_type": "code",
   "execution_count": 19,
   "metadata": {},
   "outputs": [
    {
     "name": "stdout",
     "output_type": "stream",
     "text": [
      "env: BR_ID=100\n",
      "env: RIOT_DIR=../../RIOT\n",
      "env: APP_DIR_BR=../../RIOT/examples/gnrc_border_router\n",
      "env: APP_DIR_NET=../../RIOT/examples/gnrc_networking\n",
      "env: BIN_DIR_BR=../../RIOT/examples/gnrc_border_router/bin/iotlab-a8-m3\n",
      "env: BIN_DIR_NET=../../RIOT/examples/gnrc_networking/bin/iotlab-a8-m3\n",
      "/bin/bash: ../../RIOT/opt/riot.source: No such file or directory\n",
      "make: Entering directory '/home/jovyan/work/training/riot/RIOT/examples/gnrc_border_router'\n",
      "\u001b[1;32mBuilding application \"gnrc_border_router\" for \"iotlab-a8-m3\" with MCU \"stm32\".\u001b[0m\n",
      "\n",
      "\"make\" -C /home/jovyan/work/training/riot/RIOT/boards/iotlab-a8-m3\n",
      "\"make\" -C /home/jovyan/work/training/riot/RIOT/boards/common/iotlab\n",
      "\"make\" -C /home/jovyan/work/training/riot/RIOT/core\n",
      "\"make\" -C /home/jovyan/work/training/riot/RIOT/cpu/stm32\n",
      "\"make\" -C /home/jovyan/work/training/riot/RIOT/cpu/cortexm_common\n",
      "\"make\" -C /home/jovyan/work/training/riot/RIOT/cpu/cortexm_common/periph\n",
      "\"make\" -C /home/jovyan/work/training/riot/RIOT/cpu/stm32/periph\n",
      "\"make\" -C /home/jovyan/work/training/riot/RIOT/cpu/stm32/stmclk\n",
      "\"make\" -C /home/jovyan/work/training/riot/RIOT/cpu/stm32/vectors\n",
      "\"make\" -C /home/jovyan/work/training/riot/RIOT/drivers\n",
      "\"make\" -C /home/jovyan/work/training/riot/RIOT/drivers/at86rf2xx\n",
      "\"make\" -C /home/jovyan/work/training/riot/RIOT/drivers/ethos\n",
      "\"make\" -C /home/jovyan/work/training/riot/RIOT/drivers/netdev\n",
      "\"make\" -C /home/jovyan/work/training/riot/RIOT/drivers/periph_common\n",
      "\"make\" -C /home/jovyan/work/training/riot/RIOT/sys\n",
      "\"make\" -C /home/jovyan/work/training/riot/RIOT/sys/auto_init\n",
      "\"make\" -C /home/jovyan/work/training/riot/RIOT/sys/div\n",
      "\"make\" -C /home/jovyan/work/training/riot/RIOT/sys/evtimer\n",
      "\"make\" -C /home/jovyan/work/training/riot/RIOT/sys/fmt\n",
      "\"make\" -C /home/jovyan/work/training/riot/RIOT/sys/iolist\n",
      "\"make\" -C /home/jovyan/work/training/riot/RIOT/sys/isrpipe\n",
      "\"make\" -C /home/jovyan/work/training/riot/RIOT/sys/luid\n",
      "\"make\" -C /home/jovyan/work/training/riot/RIOT/sys/malloc_thread_safe\n",
      "\"make\" -C /home/jovyan/work/training/riot/RIOT/sys/net/application_layer/uhcp\n",
      "\"make\" -C /home/jovyan/work/training/riot/RIOT/sys/net/crosslayer/inet_csum\n",
      "\"make\" -C /home/jovyan/work/training/riot/RIOT/sys/net/gnrc\n",
      "\"make\" -C /home/jovyan/work/training/riot/RIOT/sys/net/gnrc/netapi\n",
      "\"make\" -C /home/jovyan/work/training/riot/RIOT/sys/net/gnrc/netif\n",
      "\"make\" -C /home/jovyan/work/training/riot/RIOT/sys/net/gnrc/netif/ethernet\n",
      "\"make\" -C /home/jovyan/work/training/riot/RIOT/sys/net/gnrc/netif/hdr\n",
      "\"make\" -C /home/jovyan/work/training/riot/RIOT/sys/net/gnrc/netif/ieee802154\n",
      "\"make\" -C /home/jovyan/work/training/riot/RIOT/sys/net/gnrc/netif/init_devs\n",
      "\"make\" -C /home/jovyan/work/training/riot/RIOT/sys/net/gnrc/netreg\n",
      "\"make\" -C /home/jovyan/work/training/riot/RIOT/sys/net/gnrc/network_layer/icmpv6\n",
      "\"make\" -C /home/jovyan/work/training/riot/RIOT/sys/net/gnrc/network_layer/icmpv6/echo\n",
      "\"make\" -C /home/jovyan/work/training/riot/RIOT/sys/net/gnrc/network_layer/ipv6\n",
      "\"make\" -C /home/jovyan/work/training/riot/RIOT/sys/net/gnrc/network_layer/ipv6/hdr\n",
      "\"make\" -C /home/jovyan/work/training/riot/RIOT/sys/net/gnrc/network_layer/ipv6/nib\n",
      "\"make\" -C /home/jovyan/work/training/riot/RIOT/sys/net/gnrc/network_layer/ndp\n",
      "\"make\" -C /home/jovyan/work/training/riot/RIOT/sys/net/gnrc/network_layer/sixlowpan\n",
      "\"make\" -C /home/jovyan/work/training/riot/RIOT/sys/net/gnrc/network_layer/sixlowpan/ctx\n",
      "\"make\" -C /home/jovyan/work/training/riot/RIOT/sys/net/gnrc/network_layer/sixlowpan/frag\n",
      "\"make\" -C /home/jovyan/work/training/riot/RIOT/sys/net/gnrc/network_layer/sixlowpan/frag/fb\n",
      "\"make\" -C /home/jovyan/work/training/riot/RIOT/sys/net/gnrc/network_layer/sixlowpan/frag/rb\n",
      "\"make\" -C /home/jovyan/work/training/riot/RIOT/sys/net/gnrc/network_layer/sixlowpan/iphc\n",
      "\"make\" -C /home/jovyan/work/training/riot/RIOT/sys/net/gnrc/network_layer/sixlowpan/nd\n",
      "\"make\" -C /home/jovyan/work/training/riot/RIOT/sys/net/gnrc/pkt\n",
      "\"make\" -C /home/jovyan/work/training/riot/RIOT/sys/net/gnrc/pktbuf\n",
      "\"make\" -C /home/jovyan/work/training/riot/RIOT/sys/net/gnrc/pktbuf_static\n",
      "\"make\" -C /home/jovyan/work/training/riot/RIOT/sys/net/gnrc/sock\n",
      "\"make\" -C /home/jovyan/work/training/riot/RIOT/sys/net/gnrc/sock/udp\n",
      "\"make\" -C /home/jovyan/work/training/riot/RIOT/sys/net/gnrc/transport_layer/udp\n",
      "\"make\" -C /home/jovyan/work/training/riot/RIOT/sys/net/gnrc/application_layer/uhcpc\n",
      "\"make\" -C /home/jovyan/work/training/riot/RIOT/sys/net/link_layer/eui_provider\n",
      "\"make\" -C /home/jovyan/work/training/riot/RIOT/sys/net/link_layer/ieee802154\n",
      "\"make\" -C /home/jovyan/work/training/riot/RIOT/sys/net/link_layer/l2util\n",
      "\"make\" -C /home/jovyan/work/training/riot/RIOT/sys/net/netif\n",
      "\"make\" -C /home/jovyan/work/training/riot/RIOT/sys/net/network_layer/icmpv6\n",
      "\"make\" -C /home/jovyan/work/training/riot/RIOT/sys/net/network_layer/ipv6/addr\n",
      "\"make\" -C /home/jovyan/work/training/riot/RIOT/sys/net/network_layer/ipv6/hdr\n",
      "\"make\" -C /home/jovyan/work/training/riot/RIOT/sys/net/network_layer/sixlowpan\n",
      "\"make\" -C /home/jovyan/work/training/riot/RIOT/sys/net/transport_layer/udp\n",
      "\"make\" -C /home/jovyan/work/training/riot/RIOT/sys/newlib_syscalls_default\n",
      "\"make\" -C /home/jovyan/work/training/riot/RIOT/sys/pm_layered\n",
      "\"make\" -C /home/jovyan/work/training/riot/RIOT/sys/posix/inet\n",
      "\"make\" -C /home/jovyan/work/training/riot/RIOT/sys/ps\n",
      "\"make\" -C /home/jovyan/work/training/riot/RIOT/sys/random\n",
      "\"make\" -C /home/jovyan/work/training/riot/RIOT/sys/random/tinymt32\n",
      "\"make\" -C /home/jovyan/work/training/riot/RIOT/sys/shell\n",
      "\"make\" -C /home/jovyan/work/training/riot/RIOT/sys/shell/commands\n",
      "\"make\" -C /home/jovyan/work/training/riot/RIOT/sys/stdio_uart\n",
      "\"make\" -C /home/jovyan/work/training/riot/RIOT/sys/tsrb\n",
      "\"make\" -C /home/jovyan/work/training/riot/RIOT/sys/xtimer\n",
      "   text\t   data\t    bss\t    dec\t    hex\tfilename\n",
      "  79032\t    504\t  22080\t 101616\t  18cf0\t/home/jovyan/work/training/riot/RIOT/examples/gnrc_border_router/bin/iotlab-a8-m3/gnrc_border_router.elf\n",
      "make: Leaving directory '/home/jovyan/work/training/riot/RIOT/examples/gnrc_border_router'\n",
      "make: Entering directory '/home/jovyan/work/training/riot/RIOT/examples/gnrc_networking'\n",
      "\u001b[1;32mBuilding application \"gnrc_networking\" for \"iotlab-a8-m3\" with MCU \"stm32\".\u001b[0m\n",
      "\n",
      "\"make\" -C /home/jovyan/work/training/riot/RIOT/boards/iotlab-a8-m3\n",
      "\"make\" -C /home/jovyan/work/training/riot/RIOT/boards/common/iotlab\n",
      "\"make\" -C /home/jovyan/work/training/riot/RIOT/core\n",
      "\"make\" -C /home/jovyan/work/training/riot/RIOT/cpu/stm32\n",
      "\"make\" -C /home/jovyan/work/training/riot/RIOT/cpu/cortexm_common\n",
      "\"make\" -C /home/jovyan/work/training/riot/RIOT/cpu/cortexm_common/periph\n",
      "\"make\" -C /home/jovyan/work/training/riot/RIOT/cpu/stm32/periph\n",
      "\"make\" -C /home/jovyan/work/training/riot/RIOT/cpu/stm32/stmclk\n",
      "\"make\" -C /home/jovyan/work/training/riot/RIOT/cpu/stm32/vectors\n",
      "\"make\" -C /home/jovyan/work/training/riot/RIOT/drivers\n",
      "\"make\" -C /home/jovyan/work/training/riot/RIOT/drivers/at86rf2xx\n",
      "\"make\" -C /home/jovyan/work/training/riot/RIOT/drivers/netdev\n",
      "\"make\" -C /home/jovyan/work/training/riot/RIOT/drivers/periph_common\n",
      "\"make\" -C /home/jovyan/work/training/riot/RIOT/sys\n",
      "\"make\" -C /home/jovyan/work/training/riot/RIOT/sys/auto_init\n",
      "\"make\" -C /home/jovyan/work/training/riot/RIOT/sys/div\n",
      "\"make\" -C /home/jovyan/work/training/riot/RIOT/sys/evtimer\n",
      "\"make\" -C /home/jovyan/work/training/riot/RIOT/sys/fmt\n",
      "\"make\" -C /home/jovyan/work/training/riot/RIOT/sys/isrpipe\n",
      "\"make\" -C /home/jovyan/work/training/riot/RIOT/sys/luid\n",
      "\"make\" -C /home/jovyan/work/training/riot/RIOT/sys/malloc_thread_safe\n",
      "\"make\" -C /home/jovyan/work/training/riot/RIOT/sys/net/crosslayer/inet_csum\n",
      "\"make\" -C /home/jovyan/work/training/riot/RIOT/sys/net/gnrc\n",
      "\"make\" -C /home/jovyan/work/training/riot/RIOT/sys/net/gnrc/netapi\n",
      "\"make\" -C /home/jovyan/work/training/riot/RIOT/sys/net/gnrc/netif\n",
      "\"make\" -C /home/jovyan/work/training/riot/RIOT/sys/net/gnrc/netif/hdr\n",
      "\"make\" -C /home/jovyan/work/training/riot/RIOT/sys/net/gnrc/netif/ieee802154\n",
      "\"make\" -C /home/jovyan/work/training/riot/RIOT/sys/net/gnrc/netif/init_devs\n",
      "\"make\" -C /home/jovyan/work/training/riot/RIOT/sys/net/gnrc/netreg\n",
      "\"make\" -C /home/jovyan/work/training/riot/RIOT/sys/net/gnrc/network_layer/icmpv6\n",
      "\"make\" -C /home/jovyan/work/training/riot/RIOT/sys/net/gnrc/network_layer/icmpv6/echo\n",
      "\"make\" -C /home/jovyan/work/training/riot/RIOT/sys/net/gnrc/network_layer/icmpv6/error\n",
      "\"make\" -C /home/jovyan/work/training/riot/RIOT/sys/net/gnrc/network_layer/ipv6\n",
      "\"make\" -C /home/jovyan/work/training/riot/RIOT/sys/net/gnrc/network_layer/ipv6/hdr\n",
      "\"make\" -C /home/jovyan/work/training/riot/RIOT/sys/net/gnrc/network_layer/ipv6/nib\n",
      "\"make\" -C /home/jovyan/work/training/riot/RIOT/sys/net/gnrc/network_layer/ndp\n",
      "\"make\" -C /home/jovyan/work/training/riot/RIOT/sys/net/gnrc/network_layer/sixlowpan\n",
      "\"make\" -C /home/jovyan/work/training/riot/RIOT/sys/net/gnrc/network_layer/sixlowpan/ctx\n",
      "\"make\" -C /home/jovyan/work/training/riot/RIOT/sys/net/gnrc/network_layer/sixlowpan/frag\n",
      "\"make\" -C /home/jovyan/work/training/riot/RIOT/sys/net/gnrc/network_layer/sixlowpan/frag/fb\n",
      "\"make\" -C /home/jovyan/work/training/riot/RIOT/sys/net/gnrc/network_layer/sixlowpan/frag/rb\n",
      "\"make\" -C /home/jovyan/work/training/riot/RIOT/sys/net/gnrc/network_layer/sixlowpan/iphc\n",
      "\"make\" -C /home/jovyan/work/training/riot/RIOT/sys/net/gnrc/network_layer/sixlowpan/nd\n",
      "\"make\" -C /home/jovyan/work/training/riot/RIOT/sys/net/gnrc/pkt\n",
      "\"make\" -C /home/jovyan/work/training/riot/RIOT/sys/net/gnrc/pktbuf\n",
      "\"make\" -C /home/jovyan/work/training/riot/RIOT/sys/net/gnrc/pktbuf_static\n",
      "\"make\" -C /home/jovyan/work/training/riot/RIOT/sys/net/gnrc/pktdump\n",
      "\"make\" -C /home/jovyan/work/training/riot/RIOT/sys/net/gnrc/routing/rpl\n",
      "\"make\" -C /home/jovyan/work/training/riot/RIOT/sys/net/gnrc/transport_layer/udp\n",
      "\"make\" -C /home/jovyan/work/training/riot/RIOT/sys/net/link_layer/eui_provider\n",
      "\"make\" -C /home/jovyan/work/training/riot/RIOT/sys/net/link_layer/ieee802154\n",
      "\"make\" -C /home/jovyan/work/training/riot/RIOT/sys/net/link_layer/l2util\n",
      "\"make\" -C /home/jovyan/work/training/riot/RIOT/sys/net/netif\n",
      "\"make\" -C /home/jovyan/work/training/riot/RIOT/sys/net/network_layer/icmpv6\n",
      "\"make\" -C /home/jovyan/work/training/riot/RIOT/sys/net/network_layer/ipv6/addr\n",
      "\"make\" -C /home/jovyan/work/training/riot/RIOT/sys/net/network_layer/ipv6/hdr\n",
      "\"make\" -C /home/jovyan/work/training/riot/RIOT/sys/net/network_layer/sixlowpan\n",
      "\"make\" -C /home/jovyan/work/training/riot/RIOT/sys/net/transport_layer/udp\n",
      "\"make\" -C /home/jovyan/work/training/riot/RIOT/sys/newlib_syscalls_default\n",
      "\"make\" -C /home/jovyan/work/training/riot/RIOT/sys/od\n",
      "\"make\" -C /home/jovyan/work/training/riot/RIOT/sys/pm_layered\n",
      "\"make\" -C /home/jovyan/work/training/riot/RIOT/sys/ps\n",
      "\"make\" -C /home/jovyan/work/training/riot/RIOT/sys/random\n",
      "\"make\" -C /home/jovyan/work/training/riot/RIOT/sys/random/tinymt32\n",
      "\"make\" -C /home/jovyan/work/training/riot/RIOT/sys/shell\n",
      "\"make\" -C /home/jovyan/work/training/riot/RIOT/sys/shell/commands\n",
      "\"make\" -C /home/jovyan/work/training/riot/RIOT/sys/stdio_uart\n",
      "\"make\" -C /home/jovyan/work/training/riot/RIOT/sys/trickle\n",
      "\"make\" -C /home/jovyan/work/training/riot/RIOT/sys/tsrb\n",
      "\"make\" -C /home/jovyan/work/training/riot/RIOT/sys/xtimer\n",
      "   text\t   data\t    bss\t    dec\t    hex\tfilename\n",
      "  89588\t    548\t  18992\t 109128\t  1aa48\t/home/jovyan/work/training/riot/RIOT/examples/gnrc_networking/bin/iotlab-a8-m3/gnrc_networking.elf\n",
      "make: Leaving directory '/home/jovyan/work/training/riot/RIOT/examples/gnrc_networking'\n"
     ]
    }
   ],
   "source": [
    "!mkdir -p ~/A8/riot\n",
    "!cd ~/A8/riot\n",
    "%env BR_ID = 100\n",
    "%env RIOT_DIR = ../../RIOT\n",
    "%env APP_DIR_BR = ../../RIOT/examples/gnrc_border_router\n",
    "%env APP_DIR_NET = ../../RIOT/examples/gnrc_networking\n",
    "%env BIN_DIR_BR = ../../RIOT/examples/gnrc_border_router/bin/iotlab-a8-m3\n",
    "%env BIN_DIR_NET = ../../RIOT/examples/gnrc_networking/bin/iotlab-a8-m3\n",
    "!source $RIOT_DIR/opt/riot.source\n",
    "!make -C $APP_DIR_BR ETHOS_BAUDRATE=500000 BOARD=iotlab-a8-m3 DEFAULT_CHANNEL=$CHANNEL DEFAULT_PAN_ID=$PAN_ID clean all\n",
    "!cp $BIN_DIR_BR/gnrc_border_router.elf ~/A8/\n",
    "!make -C $APP_DIR_NET BOARD=iotlab-a8-m3 DEFAULT_CHANNEL=$CHANNEL DEFAULT_PAN_ID=$PAN_ID clean all\n",
    "!cp $BIN_DIR_NET/gnrc_networking.elf ~/A8/"
   ]
  },
  {
   "cell_type": "markdown",
   "metadata": {},
   "source": [
    "### Launch the commands from the first terminal\n",
    "\n",
    "From here, open a Jupyter terminal (use `File > New > Terminal`).\n",
    "\n",
    "Connect to the SSH frontend and replace `<site>` with the right value."
   ]
  },
  {
   "cell_type": "raw",
   "metadata": {},
   "source": [
    "ssh $IOTLAB_LOGIN@<site>.iot-lab.info"
   ]
  },
  {
   "cell_type": "code",
   "execution_count": null,
   "metadata": {},
   "outputs": [],
   "source": [
    "ssh root@node-a8-<id>"
   ]
  },
  {
   "cell_type": "code",
   "execution_count": null,
   "metadata": {},
   "outputs": [],
   "source": [
    "iotlab_flash A8/gnrc_border_router.elf"
   ]
  },
  {
   "cell_type": "code",
   "execution_count": null,
   "metadata": {},
   "outputs": [],
   "source": [
    "cd A8/riot/RIOT/dist/tools/uhcpd"
   ]
  },
  {
   "cell_type": "code",
   "execution_count": null,
   "metadata": {},
   "outputs": [],
   "source": [
    "make clean all"
   ]
  },
  {
   "cell_type": "code",
   "execution_count": null,
   "metadata": {},
   "outputs": [],
   "source": [
    "cd ../ethos"
   ]
  },
  {
   "cell_type": "code",
   "execution_count": null,
   "metadata": {},
   "outputs": [],
   "source": [
    "make clean all"
   ]
  },
  {
   "cell_type": "code",
   "execution_count": null,
   "metadata": {},
   "outputs": [],
   "source": [
    "reset_a8_m3"
   ]
  },
  {
   "cell_type": "code",
   "execution_count": null,
   "metadata": {},
   "outputs": [],
   "source": [
    "./start_network.sh /dev/ttyA8_M3 tap0 2001:660:3207:401::/64 500000"
   ]
  },
  {
   "cell_type": "code",
   "execution_count": null,
   "metadata": {},
   "outputs": [],
   "source": [
    "printenv (know the prefix)"
   ]
  },
  {
   "cell_type": "code",
   "execution_count": null,
   "metadata": {},
   "outputs": [],
   "source": []
  },
  {
   "cell_type": "markdown",
   "metadata": {},
   "source": [
    "### Launch the commands from the second terminal\n",
    "\n",
    "From here, open a Jupyter terminal (use `File > New > Terminal`).\n",
    "\n",
    "Connect to the SSH frontend and replace `<site>` with the right value."
   ]
  },
  {
   "cell_type": "raw",
   "metadata": {},
   "source": [
    "ssh $IOTLAB_LOGIN@<site>.iot-lab.info"
   ]
  },
  {
   "cell_type": "code",
   "execution_count": null,
   "metadata": {},
   "outputs": [],
   "source": [
    "ssh root@node-a8-<id>"
   ]
  },
  {
   "cell_type": "code",
   "execution_count": null,
   "metadata": {},
   "outputs": [],
   "source": [
    "scp $IOTLAB_LOGIN@saclay.iot-lab.info:hub/user-redirect/lab/tree/riot/networking/assignment2/config.conf config.con"
   ]
  },
  {
   "cell_type": "code",
   "execution_count": null,
   "metadata": {},
   "outputs": [],
   "source": [
    "ip -6 -o addr show eth0"
   ]
  },
  {
   "cell_type": "code",
   "execution_count": null,
   "metadata": {},
   "outputs": [],
   "source": [
    "This global address must be noted and used later to connect to the MQTT Broker"
   ]
  },
  {
   "cell_type": "code",
   "execution_count": null,
   "metadata": {},
   "outputs": [],
   "source": [
    "broker_mqtts config.conf"
   ]
  },
  {
   "cell_type": "code",
   "execution_count": null,
   "metadata": {},
   "outputs": [],
   "source": []
  },
  {
   "cell_type": "code",
   "execution_count": null,
   "metadata": {},
   "outputs": [],
   "source": []
  },
  {
   "cell_type": "code",
   "execution_count": 20,
   "metadata": {},
   "outputs": [
    {
     "name": "stdout",
     "output_type": "stream",
     "text": [
      "env: BR_ID=102\n",
      "env: APP_DIR_EMCUTE=../../RIOT/examples/emcute_mqttsn\n",
      "env: BIN_DIR_EMCUTE=../../RIOT/examples/emcute_mqttsn/bin/iotlab-a8-m3\n",
      "/bin/bash: /opt/riot.source: No such file or directory\n",
      "make: Entering directory '/home/jovyan/work/training/riot/RIOT/examples/emcute_mqttsn'\n",
      "\u001b[1;32mBuilding application \"emcute_mqttsn\" for \"iotlab-a8-m3\" with MCU \"stm32\".\u001b[0m\n",
      "\n",
      "\"make\" -C /home/jovyan/work/training/riot/RIOT/boards/iotlab-a8-m3\n",
      "\"make\" -C /home/jovyan/work/training/riot/RIOT/boards/common/iotlab\n",
      "\"make\" -C /home/jovyan/work/training/riot/RIOT/core\n",
      "\"make\" -C /home/jovyan/work/training/riot/RIOT/cpu/stm32\n",
      "\"make\" -C /home/jovyan/work/training/riot/RIOT/cpu/cortexm_common\n",
      "\"make\" -C /home/jovyan/work/training/riot/RIOT/cpu/cortexm_common/periph\n",
      "\"make\" -C /home/jovyan/work/training/riot/RIOT/cpu/stm32/periph\n",
      "\"make\" -C /home/jovyan/work/training/riot/RIOT/cpu/stm32/stmclk\n",
      "\"make\" -C /home/jovyan/work/training/riot/RIOT/cpu/stm32/vectors\n",
      "\"make\" -C /home/jovyan/work/training/riot/RIOT/drivers\n",
      "\"make\" -C /home/jovyan/work/training/riot/RIOT/drivers/at86rf2xx\n",
      "\"make\" -C /home/jovyan/work/training/riot/RIOT/drivers/netdev\n",
      "\"make\" -C /home/jovyan/work/training/riot/RIOT/drivers/periph_common\n",
      "\"make\" -C /home/jovyan/work/training/riot/RIOT/sys\n",
      "\"make\" -C /home/jovyan/work/training/riot/RIOT/sys/auto_init\n",
      "\"make\" -C /home/jovyan/work/training/riot/RIOT/sys/div\n",
      "\"make\" -C /home/jovyan/work/training/riot/RIOT/sys/evtimer\n",
      "\"make\" -C /home/jovyan/work/training/riot/RIOT/sys/fmt\n",
      "\"make\" -C /home/jovyan/work/training/riot/RIOT/sys/isrpipe\n",
      "\"make\" -C /home/jovyan/work/training/riot/RIOT/sys/luid\n",
      "\"make\" -C /home/jovyan/work/training/riot/RIOT/sys/malloc_thread_safe\n",
      "\"make\" -C /home/jovyan/work/training/riot/RIOT/sys/net/application_layer/emcute\n",
      "\"make\" -C /home/jovyan/work/training/riot/RIOT/sys/net/crosslayer/inet_csum\n",
      "\"make\" -C /home/jovyan/work/training/riot/RIOT/sys/net/gnrc\n",
      "\"make\" -C /home/jovyan/work/training/riot/RIOT/sys/net/gnrc/netapi\n",
      "\"make\" -C /home/jovyan/work/training/riot/RIOT/sys/net/gnrc/netif\n",
      "\"make\" -C /home/jovyan/work/training/riot/RIOT/sys/net/gnrc/netif/hdr\n",
      "\"make\" -C /home/jovyan/work/training/riot/RIOT/sys/net/gnrc/netif/ieee802154\n",
      "\"make\" -C /home/jovyan/work/training/riot/RIOT/sys/net/gnrc/netif/init_devs\n",
      "\"make\" -C /home/jovyan/work/training/riot/RIOT/sys/net/gnrc/netreg\n",
      "\"make\" -C /home/jovyan/work/training/riot/RIOT/sys/net/gnrc/network_layer/icmpv6\n",
      "\"make\" -C /home/jovyan/work/training/riot/RIOT/sys/net/gnrc/network_layer/icmpv6/echo\n",
      "\"make\" -C /home/jovyan/work/training/riot/RIOT/sys/net/gnrc/network_layer/ipv6\n",
      "\"make\" -C /home/jovyan/work/training/riot/RIOT/sys/net/gnrc/network_layer/ipv6/hdr\n",
      "\"make\" -C /home/jovyan/work/training/riot/RIOT/sys/net/gnrc/network_layer/ipv6/nib\n",
      "\"make\" -C /home/jovyan/work/training/riot/RIOT/sys/net/gnrc/network_layer/ndp\n",
      "\"make\" -C /home/jovyan/work/training/riot/RIOT/sys/net/gnrc/network_layer/sixlowpan\n",
      "\"make\" -C /home/jovyan/work/training/riot/RIOT/sys/net/gnrc/network_layer/sixlowpan/ctx\n",
      "\"make\" -C /home/jovyan/work/training/riot/RIOT/sys/net/gnrc/network_layer/sixlowpan/frag\n",
      "\"make\" -C /home/jovyan/work/training/riot/RIOT/sys/net/gnrc/network_layer/sixlowpan/frag/fb\n",
      "\"make\" -C /home/jovyan/work/training/riot/RIOT/sys/net/gnrc/network_layer/sixlowpan/frag/rb\n",
      "\"make\" -C /home/jovyan/work/training/riot/RIOT/sys/net/gnrc/network_layer/sixlowpan/iphc\n",
      "\"make\" -C /home/jovyan/work/training/riot/RIOT/sys/net/gnrc/network_layer/sixlowpan/nd\n",
      "\"make\" -C /home/jovyan/work/training/riot/RIOT/sys/net/gnrc/pkt\n",
      "\"make\" -C /home/jovyan/work/training/riot/RIOT/sys/net/gnrc/pktbuf\n",
      "\"make\" -C /home/jovyan/work/training/riot/RIOT/sys/net/gnrc/pktbuf_static\n",
      "\"make\" -C /home/jovyan/work/training/riot/RIOT/sys/net/gnrc/sock\n",
      "\"make\" -C /home/jovyan/work/training/riot/RIOT/sys/net/gnrc/sock/udp\n",
      "\"make\" -C /home/jovyan/work/training/riot/RIOT/sys/net/gnrc/transport_layer/udp\n",
      "\"make\" -C /home/jovyan/work/training/riot/RIOT/sys/net/link_layer/eui_provider\n",
      "\"make\" -C /home/jovyan/work/training/riot/RIOT/sys/net/link_layer/ieee802154\n",
      "\"make\" -C /home/jovyan/work/training/riot/RIOT/sys/net/link_layer/l2util\n",
      "\"make\" -C /home/jovyan/work/training/riot/RIOT/sys/net/netif\n",
      "\"make\" -C /home/jovyan/work/training/riot/RIOT/sys/net/network_layer/icmpv6\n",
      "\"make\" -C /home/jovyan/work/training/riot/RIOT/sys/net/network_layer/ipv6/addr\n",
      "\"make\" -C /home/jovyan/work/training/riot/RIOT/sys/net/network_layer/ipv6/hdr\n",
      "\"make\" -C /home/jovyan/work/training/riot/RIOT/sys/net/network_layer/sixlowpan\n",
      "\"make\" -C /home/jovyan/work/training/riot/RIOT/sys/net/transport_layer/udp\n",
      "\"make\" -C /home/jovyan/work/training/riot/RIOT/sys/newlib_syscalls_default\n",
      "\"make\" -C /home/jovyan/work/training/riot/RIOT/sys/pm_layered\n",
      "\"make\" -C /home/jovyan/work/training/riot/RIOT/sys/ps\n",
      "\"make\" -C /home/jovyan/work/training/riot/RIOT/sys/random\n",
      "\"make\" -C /home/jovyan/work/training/riot/RIOT/sys/random/tinymt32\n",
      "\"make\" -C /home/jovyan/work/training/riot/RIOT/sys/shell\n",
      "\"make\" -C /home/jovyan/work/training/riot/RIOT/sys/shell/commands\n",
      "\"make\" -C /home/jovyan/work/training/riot/RIOT/sys/stdio_uart\n",
      "\"make\" -C /home/jovyan/work/training/riot/RIOT/sys/tsrb\n",
      "\"make\" -C /home/jovyan/work/training/riot/RIOT/sys/xtimer\n",
      "   text\t   data\t    bss\t    dec\t    hex\tfilename\n",
      "  72396\t    508\t  18792\t  91696\t  16630\t/home/jovyan/work/training/riot/RIOT/examples/emcute_mqttsn/bin/iotlab-a8-m3/emcute_mqttsn.elf\n",
      "make: Leaving directory '/home/jovyan/work/training/riot/RIOT/examples/emcute_mqttsn'\n"
     ]
    }
   ],
   "source": [
    "%env BR_ID = 102\n",
    "%env APP_DIR_EMCUTE = ../../RIOT/examples/emcute_mqttsn\n",
    "%env BIN_DIR_EMCUTE = ../../RIOT/examples/emcute_mqttsn/bin/iotlab-a8-m3\n",
    "!source /opt/riot.source\n",
    "!make -C $APP_DIR_EMCUTE ETHOS_BAUDRATE=500000 BOARD=iotlab-a8-m3 DEFAULT_CHANNEL=$CHANNEL DEFAULT_PAN_ID=$PAN_ID clean all\n",
    "!cp $BIN_DIR_EMCUTE/emcute_mqttsn.elf  ~/A8/"
   ]
  },
  {
   "cell_type": "markdown",
   "metadata": {},
   "source": [
    "### Launch the commands from the third  terminal\n",
    "\n",
    "From here, open a Jupyter terminal (use `File > New > Terminal`).\n",
    "\n",
    "Connect to the SSH frontend and replace `<site>` with the right value."
   ]
  },
  {
   "cell_type": "raw",
   "metadata": {},
   "source": [
    "ssh $IOTLAB_LOGIN@<site>.iot-lab.info"
   ]
  },
  {
   "cell_type": "code",
   "execution_count": null,
   "metadata": {},
   "outputs": [],
   "source": [
    "ssh root@node-a8-<id>"
   ]
  },
  {
   "cell_type": "code",
   "execution_count": null,
   "metadata": {},
   "outputs": [],
   "source": [
    "iotlab_flash A8/emcute_mqttsn.elf"
   ]
  },
  {
   "cell_type": "code",
   "execution_count": null,
   "metadata": {},
   "outputs": [],
   "source": [
    "reset_a8_m3"
   ]
  },
  {
   "cell_type": "code",
   "execution_count": null,
   "metadata": {},
   "outputs": [],
   "source": []
  },
  {
   "cell_type": "markdown",
   "metadata": {},
   "source": [
    "6. Open a Jupyter terminal (use `File > New > Terminal`) and open the serial link."
   ]
  },
  {
   "cell_type": "raw",
   "metadata": {},
   "source": [
    "make BOARD=iotlab-a8-m3 IOTLAB_NODE=auto-ssh -C riot/basics/shell term"
   ]
  },
  {
   "cell_type": "code",
   "execution_count": null,
   "metadata": {},
   "outputs": [],
   "source": [
    "miniterm.py /dev/ttyA8_M3 500000 "
   ]
  },
  {
   "cell_type": "markdown",
   "metadata": {},
   "source": [
    "Interact with the shell to get the command output:"
   ]
  },
  {
   "cell_type": "markdown",
   "metadata": {},
   "source": [
    "con (ip del broker) 1885"
   ]
  },
  {
   "cell_type": "code",
   "execution_count": null,
   "metadata": {},
   "outputs": [],
   "source": [
    "sub topic"
   ]
  },
  {
   "cell_type": "markdown",
   "metadata": {},
   "source": [
    "### Free up the resources\n",
    "\n",
    "Since you finished the training, stop your experiment to free up the experiment nodes:"
   ]
  },
  {
   "cell_type": "code",
   "execution_count": 11,
   "metadata": {},
   "outputs": [
    {
     "name": "stdout",
     "output_type": "stream",
     "text": [
      "usage: iotlab-experiment [-h] [-u USERNAME] [-p PASSWORD] [-v]\n",
      "                         [--jmespath JMESPATH] [--format FORMAT]\n",
      "                         {submit,script,stop,get,load,reload,info,wait} ...\n",
      "iotlab-experiment: error: You have no 'Running' experiment\n"
     ]
    }
   ],
   "source": [
    "!iotlab-experiment stop"
   ]
  },
  {
   "cell_type": "code",
   "execution_count": null,
   "metadata": {},
   "outputs": [],
   "source": []
  }
 ],
 "metadata": {
  "kernelspec": {
   "display_name": "Python 3",
   "language": "python",
   "name": "python3"
  },
  "language_info": {
   "codemirror_mode": {
    "name": "ipython",
    "version": 3
   },
   "file_extension": ".py",
   "mimetype": "text/x-python",
   "name": "python",
   "nbconvert_exporter": "python",
   "pygments_lexer": "ipython3",
   "version": "3.8.6"
  }
 },
 "nbformat": 4,
 "nbformat_minor": 4
}
