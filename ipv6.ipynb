{
 "cells": [
  {
   "cell_type": "markdown",
   "metadata": {},
   "source": [
    "## Discover IPv6 and 6LoWPAN\n",
    "\n",
    "In this exercice you will learn how you should communicate with IPV6 and wireless low power devices. The 6LoWPAN protocol has been developed to define the IPv6 adaptation and the way the IP datagrams will be transported over the IEEE802.15.4 radio links. You will deploy a private IPv6 network and test the connectivity between nodes. Moreover you will setup a public IPv6 network with a border router and verify that you can communicate with public servers. Finally with the monitoring feature you will configure a radio sniffer and analyse the traffic. With [Wireshark](https://en.wikipedia.org/wiki/Wireshark), a network packet analyzer, you will inspect the packets from the different protocols layers with headers and payloads.\n",
    "\n",
    "### IPv6 overview\n",
    "\n",
    "Before going into the explanations of network configuration on the nodes, it is essential to have some notions about IPv6. Unlike an IPv4 address which is coded on 32 bits (i.e. 4 bytes) and uses a decimal notation (for example: 192.168.6.19), an IPv6 address is represented by a series of 128 bits (16 bytes), and is represented with a hexadecimal notation.\n",
    "\n",
    "For example, a public IPv6 address (so-called \"global\" unicast address, that is to say routable) on IoT-LAB Grenoble site can have the full representation:  \n",
    "`2001:0660:5307:30ff:0000:0000:0000:0001`  \n",
    "can be shortened to  \n",
    "`2001:660:5307:30ff::1` (a series of 0 contiguous is replaced only once by ::).\n",
    "\n",
    "This 128-bit series is often divided into 2 parts:\n",
    "\n",
    "* the least significant 64 bits correspond to the address of the host, `::1` in the previous example. Generally, they are constructed from the MAC address of the host to guarantee the uniqueness of an IPv6 address in a subnet (since the physical address is itself unique, normally).\n",
    "\n",
    "* the most significant 64 bits correspond to the network prefix, `2001:660:5307:30ff::/64` in the previous example. It's used for routing IPv6 packets and use, as in IPv4, the CIDR notation: &lt;prefix&gt; / &lt;bit length&gt;. This 64-bit block is divided into a first part containing up to 48 bits and designating the \"global routing prefix\",  (`2001:660:5307`) the rest of the bits identifying the subnet (`30ff`). A prefix always contains 64 bits.\n",
    "\n",
    "Some prefixes are reserved for very specific uses:\n",
    "\n",
    "* `fe80::/10` is used for unicast addresses called \"link-local\". This type of address only allows 2 network nodes to communicate if they share a direct physical link. This was the case with two nodes with wireless interface (802.15.4),\n",
    "\n",
    "* `fd00::/8` is intended for \"Unique Local Address\" addresses. These addresses correspond to private addresses in IPv4 and are not routable.\n",
    "\n",
    "\n",
    "### Submit an experiment on IoT-LAB\n",
    "    \n",
    "1. Choose your site (grenoble|lille|saclay|strasbourg):"
   ]
  },
  {
   "cell_type": "code",
   "execution_count": 88,
   "metadata": {},
   "outputs": [
    {
     "name": "stdout",
     "output_type": "stream",
     "text": [
      "env: SITE=saclay\n"
     ]
    }
   ],
   "source": [
    "%env SITE=saclay"
   ]
  },
  {
   "cell_type": "markdown",
   "metadata": {},
   "source": [
    "2. Submit an experiment with two nodes"
   ]
  },
  {
   "cell_type": "code",
   "execution_count": 89,
   "metadata": {},
   "outputs": [
    {
     "name": "stdout",
     "output_type": "stream",
     "text": [
      "{\n",
      "    \"id\": 272604\n",
      "}\n"
     ]
    }
   ],
   "source": [
    "!iotlab-experiment submit -n \"riot-ipv6\" -d 60 -l 5,archi=m3:at86rf231+site=$SITE  -l 2,archi=a8:at86rf231+site=$SITE"
   ]
  },
  {
   "cell_type": "markdown",
   "metadata": {},
   "source": [
    "3. Wait for the experiment to be in the Running state:"
   ]
  },
  {
   "cell_type": "code",
   "execution_count": 90,
   "metadata": {},
   "outputs": [
    {
     "name": "stdout",
     "output_type": "stream",
     "text": [
      "Waiting that experiment 272604 gets in state Running\n",
      "\"Running\"\n"
     ]
    }
   ],
   "source": [
    "!iotlab-experiment wait --timeout 30 --cancel-on-timeout"
   ]
  },
  {
   "cell_type": "markdown",
   "metadata": {},
   "source": [
    "**Note:** If the command above returns the message `Timeout reached, cancelling experiment <exp_id>`, try to re-submit your experiment later or try on another site."
   ]
  },
  {
   "cell_type": "markdown",
   "metadata": {},
   "source": [
    "4. Check the nodes allocated to the experiment"
   ]
  },
  {
   "cell_type": "code",
   "execution_count": 91,
   "metadata": {},
   "outputs": [
    {
     "name": "stdout",
     "output_type": "stream",
     "text": [
      "[\n",
      "    \"a8-100.saclay.iot-lab.info\",\n",
      "    \"a8-101.saclay.iot-lab.info\",\n",
      "    \"m3-1.saclay.iot-lab.info\",\n",
      "    \"m3-2.saclay.iot-lab.info\",\n",
      "    \"m3-4.saclay.iot-lab.info\",\n",
      "    \"m3-5.saclay.iot-lab.info\",\n",
      "    \"m3-6.saclay.iot-lab.info\"\n",
      "]\n"
     ]
    }
   ],
   "source": [
    "!iotlab-experiment --jmespath=\"items[*].network_address | sort(@)\" get --nodes"
   ]
  },
  {
   "cell_type": "markdown",
   "metadata": {},
   "source": [
    "#### Radio settings\n",
    "\n",
    "If you are running this training at the same time as other people on the testbed, it is a good idea to change the default radio configuration to avoid too much collision with others.\n",
    "\n",
    "Use the following cell to give you random values for channel and PAN ID."
   ]
  },
  {
   "cell_type": "code",
   "execution_count": null,
   "metadata": {},
   "outputs": [],
   "source": [
    "import os,binascii,random\n",
    "pan_id = binascii.b2a_hex(os.urandom(2)).decode()\n",
    "channel = random.randint(11, 26)\n",
    "print('Use CHANNEL={}, PAN_ID=0x{}'.format(channel, pan_id))"
   ]
  },
  {
   "cell_type": "markdown",
   "metadata": {},
   "source": [
    "Set environment variables for further use by modifying the values in the cell below with those obtained and run it:"
   ]
  },
  {
   "cell_type": "code",
   "execution_count": 92,
   "metadata": {},
   "outputs": [
    {
     "name": "stdout",
     "output_type": "stream",
     "text": [
      "env: CHANNEL=11\n",
      "env: PAN_ID=0xBEEF\n"
     ]
    }
   ],
   "source": [
    "%env CHANNEL=11\n",
    "%env PAN_ID=0xBEEF"
   ]
  },
  {
   "cell_type": "markdown",
   "metadata": {},
   "source": [
    "### Communication between two nodes\n",
    "\n",
    "Compile the RIOT `gnrc_networking` example:"
   ]
  },
  {
   "cell_type": "code",
   "execution_count": 93,
   "metadata": {},
   "outputs": [
    {
     "name": "stdout",
     "output_type": "stream",
     "text": [
      "env: APP_DIR=../../RIOT/examples/gnrc_networking\n",
      "make: Entering directory '/home/jovyan/work/training/riot/RIOT/examples/gnrc_networking'\n",
      "\u001b[1;32mBuilding application \"gnrc_networking\" for \"iotlab-m3\" with MCU \"stm32\".\u001b[0m\n",
      "\n",
      "\"make\" -C /home/jovyan/work/training/riot/RIOT/boards/iotlab-m3\n",
      "\"make\" -C /home/jovyan/work/training/riot/RIOT/boards/common/iotlab\n",
      "\"make\" -C /home/jovyan/work/training/riot/RIOT/core\n",
      "\"make\" -C /home/jovyan/work/training/riot/RIOT/cpu/stm32\n",
      "\"make\" -C /home/jovyan/work/training/riot/RIOT/cpu/cortexm_common\n",
      "\"make\" -C /home/jovyan/work/training/riot/RIOT/cpu/cortexm_common/periph\n",
      "\"make\" -C /home/jovyan/work/training/riot/RIOT/cpu/stm32/periph\n",
      "\"make\" -C /home/jovyan/work/training/riot/RIOT/cpu/stm32/stmclk\n",
      "\"make\" -C /home/jovyan/work/training/riot/RIOT/cpu/stm32/vectors\n",
      "\"make\" -C /home/jovyan/work/training/riot/RIOT/drivers\n",
      "\"make\" -C /home/jovyan/work/training/riot/RIOT/drivers/at86rf2xx\n",
      "\"make\" -C /home/jovyan/work/training/riot/RIOT/drivers/netdev\n",
      "\"make\" -C /home/jovyan/work/training/riot/RIOT/drivers/periph_common\n",
      "\"make\" -C /home/jovyan/work/training/riot/RIOT/sys\n",
      "\"make\" -C /home/jovyan/work/training/riot/RIOT/sys/auto_init\n",
      "\"make\" -C /home/jovyan/work/training/riot/RIOT/sys/div\n",
      "\"make\" -C /home/jovyan/work/training/riot/RIOT/sys/evtimer\n",
      "\"make\" -C /home/jovyan/work/training/riot/RIOT/sys/fmt\n",
      "\"make\" -C /home/jovyan/work/training/riot/RIOT/sys/isrpipe\n",
      "\"make\" -C /home/jovyan/work/training/riot/RIOT/sys/luid\n",
      "\"make\" -C /home/jovyan/work/training/riot/RIOT/sys/malloc_thread_safe\n",
      "\"make\" -C /home/jovyan/work/training/riot/RIOT/sys/net/crosslayer/inet_csum\n",
      "\"make\" -C /home/jovyan/work/training/riot/RIOT/sys/net/gnrc\n",
      "\"make\" -C /home/jovyan/work/training/riot/RIOT/sys/net/gnrc/netapi\n",
      "\"make\" -C /home/jovyan/work/training/riot/RIOT/sys/net/gnrc/netif\n",
      "\"make\" -C /home/jovyan/work/training/riot/RIOT/sys/net/gnrc/netif/hdr\n",
      "\"make\" -C /home/jovyan/work/training/riot/RIOT/sys/net/gnrc/netif/ieee802154\n",
      "\"make\" -C /home/jovyan/work/training/riot/RIOT/sys/net/gnrc/netif/init_devs\n",
      "\"make\" -C /home/jovyan/work/training/riot/RIOT/sys/net/gnrc/netreg\n",
      "\"make\" -C /home/jovyan/work/training/riot/RIOT/sys/net/gnrc/network_layer/icmpv6\n",
      "\"make\" -C /home/jovyan/work/training/riot/RIOT/sys/net/gnrc/network_layer/icmpv6/echo\n",
      "\"make\" -C /home/jovyan/work/training/riot/RIOT/sys/net/gnrc/network_layer/icmpv6/error\n",
      "\"make\" -C /home/jovyan/work/training/riot/RIOT/sys/net/gnrc/network_layer/ipv6\n",
      "\"make\" -C /home/jovyan/work/training/riot/RIOT/sys/net/gnrc/network_layer/ipv6/hdr\n",
      "\"make\" -C /home/jovyan/work/training/riot/RIOT/sys/net/gnrc/network_layer/ipv6/nib\n",
      "\"make\" -C /home/jovyan/work/training/riot/RIOT/sys/net/gnrc/network_layer/ndp\n",
      "\"make\" -C /home/jovyan/work/training/riot/RIOT/sys/net/gnrc/network_layer/sixlowpan\n",
      "\"make\" -C /home/jovyan/work/training/riot/RIOT/sys/net/gnrc/network_layer/sixlowpan/ctx\n",
      "\"make\" -C /home/jovyan/work/training/riot/RIOT/sys/net/gnrc/network_layer/sixlowpan/frag\n",
      "\"make\" -C /home/jovyan/work/training/riot/RIOT/sys/net/gnrc/network_layer/sixlowpan/frag/fb\n",
      "\"make\" -C /home/jovyan/work/training/riot/RIOT/sys/net/gnrc/network_layer/sixlowpan/frag/rb\n",
      "\"make\" -C /home/jovyan/work/training/riot/RIOT/sys/net/gnrc/network_layer/sixlowpan/iphc\n",
      "\"make\" -C /home/jovyan/work/training/riot/RIOT/sys/net/gnrc/network_layer/sixlowpan/nd\n",
      "\"make\" -C /home/jovyan/work/training/riot/RIOT/sys/net/gnrc/pkt\n",
      "\"make\" -C /home/jovyan/work/training/riot/RIOT/sys/net/gnrc/pktbuf\n",
      "\"make\" -C /home/jovyan/work/training/riot/RIOT/sys/net/gnrc/pktbuf_static\n",
      "\"make\" -C /home/jovyan/work/training/riot/RIOT/sys/net/gnrc/pktdump\n",
      "\"make\" -C /home/jovyan/work/training/riot/RIOT/sys/net/gnrc/routing/rpl\n",
      "\"make\" -C /home/jovyan/work/training/riot/RIOT/sys/net/gnrc/transport_layer/udp\n",
      "\"make\" -C /home/jovyan/work/training/riot/RIOT/sys/net/link_layer/eui_provider\n",
      "\"make\" -C /home/jovyan/work/training/riot/RIOT/sys/net/link_layer/ieee802154\n",
      "\"make\" -C /home/jovyan/work/training/riot/RIOT/sys/net/link_layer/l2util\n",
      "\"make\" -C /home/jovyan/work/training/riot/RIOT/sys/net/netif\n",
      "\"make\" -C /home/jovyan/work/training/riot/RIOT/sys/net/network_layer/icmpv6\n",
      "\"make\" -C /home/jovyan/work/training/riot/RIOT/sys/net/network_layer/ipv6/addr\n",
      "\"make\" -C /home/jovyan/work/training/riot/RIOT/sys/net/network_layer/ipv6/hdr\n",
      "\"make\" -C /home/jovyan/work/training/riot/RIOT/sys/net/network_layer/sixlowpan\n",
      "\"make\" -C /home/jovyan/work/training/riot/RIOT/sys/net/transport_layer/udp\n",
      "\"make\" -C /home/jovyan/work/training/riot/RIOT/sys/newlib_syscalls_default\n",
      "\"make\" -C /home/jovyan/work/training/riot/RIOT/sys/od\n",
      "\"make\" -C /home/jovyan/work/training/riot/RIOT/sys/pm_layered\n",
      "\"make\" -C /home/jovyan/work/training/riot/RIOT/sys/ps\n",
      "\"make\" -C /home/jovyan/work/training/riot/RIOT/sys/random\n",
      "\"make\" -C /home/jovyan/work/training/riot/RIOT/sys/random/tinymt32\n",
      "\"make\" -C /home/jovyan/work/training/riot/RIOT/sys/shell\n",
      "\"make\" -C /home/jovyan/work/training/riot/RIOT/sys/shell/commands\n",
      "\"make\" -C /home/jovyan/work/training/riot/RIOT/sys/stdio_uart\n",
      "\"make\" -C /home/jovyan/work/training/riot/RIOT/sys/trickle\n",
      "\"make\" -C /home/jovyan/work/training/riot/RIOT/sys/tsrb\n",
      "\"make\" -C /home/jovyan/work/training/riot/RIOT/sys/xtimer\n",
      "   text\t   data\t    bss\t    dec\t    hex\tfilename\n",
      "  89588\t    548\t  18992\t 109128\t  1aa48\t/home/jovyan/work/training/riot/RIOT/examples/gnrc_networking/bin/iotlab-m3/gnrc_networking.elf\n",
      "make: Leaving directory '/home/jovyan/work/training/riot/RIOT/examples/gnrc_networking'\n"
     ]
    }
   ],
   "source": [
    "%env APP_DIR=../../RIOT/examples/gnrc_networking\n",
    "!make -C $APP_DIR BOARD=iotlab-m3 DEFAULT_CHANNEL=$CHANNEL DEFAULT_PAN_ID=$PAN_ID"
   ]
  },
  {
   "cell_type": "markdown",
   "metadata": {},
   "source": [
    "Then, flash the two nodes with this firmware:"
   ]
  },
  {
   "cell_type": "code",
   "execution_count": 94,
   "metadata": {},
   "outputs": [
    {
     "name": "stdout",
     "output_type": "stream",
     "text": [
      "{\n",
      "    \"0\": [\n",
      "        \"m3-1.saclay.iot-lab.info\",\n",
      "        \"m3-2.saclay.iot-lab.info\",\n",
      "        \"m3-4.saclay.iot-lab.info\",\n",
      "        \"m3-5.saclay.iot-lab.info\",\n",
      "        \"m3-6.saclay.iot-lab.info\"\n",
      "    ]\n",
      "}\n"
     ]
    }
   ],
   "source": [
    "!iotlab-node --flash $APP_DIR/bin/iotlab-m3/gnrc_networking.bin"
   ]
  },
  {
   "cell_type": "markdown",
   "metadata": {},
   "source": [
    "For each of the two experiment nodes open a Jupyter Terminal (use `File > New > Terminal`) and execute the following command to connect to its serial link, replacing `<site>` in the first command and `<id>`in the second with the right values:"
   ]
  },
  {
   "cell_type": "raw",
   "metadata": {},
   "source": [
    "ssh $IOTLAB_LOGIN@saclay.iot-lab.info\n",
    "<login>@<site>:~$ nc m3-<id> 20000"
   ]
  },
  {
   "cell_type": "markdown",
   "metadata": {},
   "source": [
    "At this stage you can print the network configuration of one node and test the IPv6 connectivity with the other one. You can note that we use the \"link-local\" IPv6 address of the node (`inet6 addr` field). We don't have a global IPV6 address and we can only communicate because the two nodes are in the same radio neighborhood with the same physical link (802.15.4) and same channel."
   ]
  },
  {
   "cell_type": "raw",
   "metadata": {},
   "source": [
    "> ifconfig\n",
    "ifconfig\n",
    "Iface  6  HWaddr: 11:15  Channel: 26  Page: 0  NID: 0x23\n",
    "          Long HWaddr: 22:5C:FC:65:10:6B:11:15 \n",
    "           TX-Power: 0dBm  State: IDLE  max. Retrans.: 3  CSMA Retries: 4 \n",
    "          AUTOACK  ACK_REQ  CSMA  L2-PDU:102 MTU:1280  HL:64  RTR  \n",
    "          6LO  IPHC  \n",
    "          Source address length: 8\n",
    "          Link type: wireless\n",
    "          inet6 addr: fe80::205c:fc65:106b:1115  scope: link  VAL"
   ]
  },
  {
   "cell_type": "raw",
   "metadata": {},
   "source": [
    "> ping6 fe80::205c:fc65:106b:1115\n",
    "ping6 fe80::205c:fc65:106b:1115\n",
    "12 bytes from fe80::205c:fc65:106b:1115: icmp_seq=0 ttl=64 rssi=-55 dBm time=7.951 ms\n",
    "12 bytes from fe80::205c:fc65:106b:1115: icmp_seq=1 ttl=64 rssi=-55 dBm time=7.311 ms\n",
    "12 bytes from fe80::205c:fc65:106b:1115: icmp_seq=2 ttl=64 rssi=-55 dBm time=9.231 ms\n",
    "\n",
    "--- fe80::205c:fc65:106b:1115 PING statistics ---\n",
    "3 packets transmitted, 3 packets received, 0% packet loss\n",
    "round-trip min/avg/max = 7.311/8.164/9.231 ms"
   ]
  },
  {
   "cell_type": "markdown",
   "metadata": {},
   "source": [
    "### Communication via a Border Router (BR)\n",
    "\n",
    "In order for a node to communicate in IPv6 with a host on the Internet, it needs a “global” unicast address. To do this, a Border Router node  must be added to the network, which will be responsible for propagating the IPv6 global prefix to the other nodes. We speak here of border router, because it is on the border between a 802.15.4 network and a classic Ethernet network. For this choose one node of your experiment to take the role of border router.\n",
    "\n",
    "<figure>\n",
    "    <img src=\"images/ipv6.png\" alt=\"serial-link\" width=\"600\">\n",
    "    <figcaption><em>Public IPv6 connectivity on the IoT-LAB platform</em></figcaption>\n",
    "</figure>\n",
    "\n",
    "Compile and flash border router firmware to this node. Replace `<id>` with the right value:"
   ]
  },
  {
   "cell_type": "code",
   "execution_count": 95,
   "metadata": {},
   "outputs": [
    {
     "name": "stdout",
     "output_type": "stream",
     "text": [
      "env: BR_ID=4\n",
      "env: APP_DIR=../../RIOT/examples/gnrc_border_router\n",
      "make: Entering directory '/home/jovyan/work/training/riot/RIOT/examples/gnrc_border_router'\n",
      "\u001b[1;32mBuilding application \"gnrc_border_router\" for \"iotlab-m3\" with MCU \"stm32\".\u001b[0m\n",
      "\n",
      "\"make\" -C /home/jovyan/work/training/riot/RIOT/boards/iotlab-m3\n",
      "\"make\" -C /home/jovyan/work/training/riot/RIOT/boards/common/iotlab\n",
      "\"make\" -C /home/jovyan/work/training/riot/RIOT/core\n",
      "\"make\" -C /home/jovyan/work/training/riot/RIOT/cpu/stm32\n",
      "\"make\" -C /home/jovyan/work/training/riot/RIOT/cpu/cortexm_common\n",
      "\"make\" -C /home/jovyan/work/training/riot/RIOT/cpu/cortexm_common/periph\n",
      "\"make\" -C /home/jovyan/work/training/riot/RIOT/cpu/stm32/periph\n",
      "\"make\" -C /home/jovyan/work/training/riot/RIOT/cpu/stm32/stmclk\n",
      "\"make\" -C /home/jovyan/work/training/riot/RIOT/cpu/stm32/vectors\n",
      "\"make\" -C /home/jovyan/work/training/riot/RIOT/drivers\n",
      "\"make\" -C /home/jovyan/work/training/riot/RIOT/drivers/at86rf2xx\n",
      "\"make\" -C /home/jovyan/work/training/riot/RIOT/drivers/ethos\n",
      "\"make\" -C /home/jovyan/work/training/riot/RIOT/drivers/netdev\n",
      "\"make\" -C /home/jovyan/work/training/riot/RIOT/drivers/periph_common\n",
      "\"make\" -C /home/jovyan/work/training/riot/RIOT/sys\n",
      "\"make\" -C /home/jovyan/work/training/riot/RIOT/sys/auto_init\n",
      "\"make\" -C /home/jovyan/work/training/riot/RIOT/sys/div\n",
      "\"make\" -C /home/jovyan/work/training/riot/RIOT/sys/evtimer\n",
      "\"make\" -C /home/jovyan/work/training/riot/RIOT/sys/fmt\n",
      "\"make\" -C /home/jovyan/work/training/riot/RIOT/sys/iolist\n",
      "\"make\" -C /home/jovyan/work/training/riot/RIOT/sys/isrpipe\n",
      "\"make\" -C /home/jovyan/work/training/riot/RIOT/sys/luid\n",
      "\"make\" -C /home/jovyan/work/training/riot/RIOT/sys/malloc_thread_safe\n",
      "\"make\" -C /home/jovyan/work/training/riot/RIOT/sys/net/application_layer/uhcp\n",
      "\"make\" -C /home/jovyan/work/training/riot/RIOT/sys/net/crosslayer/inet_csum\n",
      "\"make\" -C /home/jovyan/work/training/riot/RIOT/sys/net/gnrc\n",
      "\"make\" -C /home/jovyan/work/training/riot/RIOT/sys/net/gnrc/netapi\n",
      "\"make\" -C /home/jovyan/work/training/riot/RIOT/sys/net/gnrc/netif\n",
      "\"make\" -C /home/jovyan/work/training/riot/RIOT/sys/net/gnrc/netif/ethernet\n",
      "\"make\" -C /home/jovyan/work/training/riot/RIOT/sys/net/gnrc/netif/hdr\n",
      "\"make\" -C /home/jovyan/work/training/riot/RIOT/sys/net/gnrc/netif/ieee802154\n",
      "\"make\" -C /home/jovyan/work/training/riot/RIOT/sys/net/gnrc/netif/init_devs\n",
      "\"make\" -C /home/jovyan/work/training/riot/RIOT/sys/net/gnrc/netreg\n",
      "\"make\" -C /home/jovyan/work/training/riot/RIOT/sys/net/gnrc/network_layer/icmpv6\n",
      "\"make\" -C /home/jovyan/work/training/riot/RIOT/sys/net/gnrc/network_layer/icmpv6/echo\n",
      "\"make\" -C /home/jovyan/work/training/riot/RIOT/sys/net/gnrc/network_layer/ipv6\n",
      "\"make\" -C /home/jovyan/work/training/riot/RIOT/sys/net/gnrc/network_layer/ipv6/hdr\n",
      "\"make\" -C /home/jovyan/work/training/riot/RIOT/sys/net/gnrc/network_layer/ipv6/nib\n",
      "\"make\" -C /home/jovyan/work/training/riot/RIOT/sys/net/gnrc/network_layer/ndp\n",
      "\"make\" -C /home/jovyan/work/training/riot/RIOT/sys/net/gnrc/network_layer/sixlowpan\n",
      "\"make\" -C /home/jovyan/work/training/riot/RIOT/sys/net/gnrc/network_layer/sixlowpan/ctx\n",
      "\"make\" -C /home/jovyan/work/training/riot/RIOT/sys/net/gnrc/network_layer/sixlowpan/frag\n",
      "\"make\" -C /home/jovyan/work/training/riot/RIOT/sys/net/gnrc/network_layer/sixlowpan/frag/fb\n",
      "\"make\" -C /home/jovyan/work/training/riot/RIOT/sys/net/gnrc/network_layer/sixlowpan/frag/rb\n",
      "\"make\" -C /home/jovyan/work/training/riot/RIOT/sys/net/gnrc/network_layer/sixlowpan/iphc\n",
      "\"make\" -C /home/jovyan/work/training/riot/RIOT/sys/net/gnrc/network_layer/sixlowpan/nd\n",
      "\"make\" -C /home/jovyan/work/training/riot/RIOT/sys/net/gnrc/pkt\n",
      "\"make\" -C /home/jovyan/work/training/riot/RIOT/sys/net/gnrc/pktbuf\n",
      "\"make\" -C /home/jovyan/work/training/riot/RIOT/sys/net/gnrc/pktbuf_static\n",
      "\"make\" -C /home/jovyan/work/training/riot/RIOT/sys/net/gnrc/sock\n",
      "\"make\" -C /home/jovyan/work/training/riot/RIOT/sys/net/gnrc/sock/udp\n",
      "\"make\" -C /home/jovyan/work/training/riot/RIOT/sys/net/gnrc/transport_layer/udp\n",
      "\"make\" -C /home/jovyan/work/training/riot/RIOT/sys/net/gnrc/application_layer/uhcpc\n",
      "\"make\" -C /home/jovyan/work/training/riot/RIOT/sys/net/link_layer/eui_provider\n",
      "\"make\" -C /home/jovyan/work/training/riot/RIOT/sys/net/link_layer/ieee802154\n",
      "\"make\" -C /home/jovyan/work/training/riot/RIOT/sys/net/link_layer/l2util\n",
      "\"make\" -C /home/jovyan/work/training/riot/RIOT/sys/net/netif\n",
      "\"make\" -C /home/jovyan/work/training/riot/RIOT/sys/net/network_layer/icmpv6\n",
      "\"make\" -C /home/jovyan/work/training/riot/RIOT/sys/net/network_layer/ipv6/addr\n",
      "\"make\" -C /home/jovyan/work/training/riot/RIOT/sys/net/network_layer/ipv6/hdr\n",
      "\"make\" -C /home/jovyan/work/training/riot/RIOT/sys/net/network_layer/sixlowpan\n",
      "\"make\" -C /home/jovyan/work/training/riot/RIOT/sys/net/transport_layer/udp\n",
      "\"make\" -C /home/jovyan/work/training/riot/RIOT/sys/newlib_syscalls_default\n",
      "\"make\" -C /home/jovyan/work/training/riot/RIOT/sys/pm_layered\n",
      "\"make\" -C /home/jovyan/work/training/riot/RIOT/sys/posix/inet\n",
      "\"make\" -C /home/jovyan/work/training/riot/RIOT/sys/ps\n",
      "\"make\" -C /home/jovyan/work/training/riot/RIOT/sys/random\n",
      "\"make\" -C /home/jovyan/work/training/riot/RIOT/sys/random/tinymt32\n",
      "\"make\" -C /home/jovyan/work/training/riot/RIOT/sys/shell\n",
      "\"make\" -C /home/jovyan/work/training/riot/RIOT/sys/shell/commands\n",
      "\"make\" -C /home/jovyan/work/training/riot/RIOT/sys/stdio_uart\n",
      "\"make\" -C /home/jovyan/work/training/riot/RIOT/sys/tsrb\n",
      "\"make\" -C /home/jovyan/work/training/riot/RIOT/sys/xtimer\n",
      "   text\t   data\t    bss\t    dec\t    hex\tfilename\n",
      "  79032\t    504\t  22080\t 101616\t  18cf0\t/home/jovyan/work/training/riot/RIOT/examples/gnrc_border_router/bin/iotlab-m3/gnrc_border_router.elf\n",
      "iotlab-node --jmespath='keys(@)[0]' --format='int'  --list saclay,m3,4 --flash /home/jovyan/work/training/riot/RIOT/examples/gnrc_border_router/bin/iotlab-m3/gnrc_border_router.bin | grep 0\n",
      "0\n",
      "make: Leaving directory '/home/jovyan/work/training/riot/RIOT/examples/gnrc_border_router'\n"
     ]
    }
   ],
   "source": [
    "%env BR_ID = 4\n",
    "%env APP_DIR = ../../RIOT/examples/gnrc_border_router\n",
    "!make -C $APP_DIR ETHOS_BAUDRATE=500000 BOARD=iotlab-m3 DEFAULT_CHANNEL=$CHANNEL DEFAULT_PAN_ID=$PAN_ID IOTLAB_NODE=m3-$BR_ID.$SITE.iot-lab.info flash"
   ]
  },
  {
   "cell_type": "markdown",
   "metadata": {},
   "source": [
    "On the serial link of the coressponding node, you should seen the ouput correponding to the start of the border router firmware. Disconnect to the serial link of the BR node using `Ctrl+C` in this terminal, as it will be used for another purpose later. Keep the terminal open and connected to the SSH frontend to launch the commands of the following steps."
   ]
  },
  {
   "cell_type": "markdown",
   "metadata": {},
   "source": [
    "We need to create a network interface  on the SSH frontend choosing a public IPv6 prefix available. You can find below the list of public IPv6 prefix by sites:\n",
    "\n",
    "| Site       | First Prefix       | Last Prefix        | Number of Prefix |\n",
    "|------------|--------------------|--------------------|--------------------|\n",
    "| Grenoble   | 2001:660:5307:3100 | 2001:660:5307:317f | 128                |\n",
    "| Lille      | 2001:660:4403:0480 | 2001:660:4403:04ff | 128                |\n",
    "| Strasbourg | 2001:660:4701:f0a0 | 2001:660:4701:f0bf | 32                 |\n",
    "\n",
    "As it's a shared environment you must check before. Visualize which network interfaces are already used"
   ]
  },
  {
   "cell_type": "raw",
   "metadata": {},
   "source": [
    "<login>@<site>:~$ ip addr show | grep tap\n",
    "313: tap0: <NO-CARRIER,BROADCAST,MULTICAST,UP> mtu 1500 qdisc pfifo_fast state DOWN group default qlen 1000\n",
    "...\n",
    "316: tap1: <NO-CARRIER,BROADCAST,MULTICAST,UP> mtu 1500 qdisc pfifo_fast state DOWN group default qlen 1000\n",
    "...\n",
    "582: tap8: <NO-CARRIER,BROADCAST,MULTICAST,UP> mtu 1500 qdisc pfifo_fast state DOWN group default qlen 1000\n",
    "..."
   ]
  },
  {
   "cell_type": "markdown",
   "metadata": {},
   "source": [
    "In the example above you can see that we already have three interfaces in use (eg. tap0, tap1 and tap8). Take one from free by doing tap&lt;id&gt;+1 which gives tap9 here.\n",
    "\n",
    "Visualize on the SSH frontend which prefix are already used:"
   ]
  },
  {
   "cell_type": "raw",
   "metadata": {},
   "source": [
    "<login>@<site>:~$ ip -6 route\n",
    "2001:660:5307:3100::/64 via fe80::2 dev tap0 metric 1024 linkdown  pref medium\n",
    "2001:660:5307:3102::/64 via fe80::2 dev tap2 metric 1024 linkdown  pref medium\n",
    "2001:660:5307:3103::/64 via fe80::2 dev tap3 metric 1024 linkdown  pref medium\n",
    "2001:660:5307:3104::/64 via fe80::2 dev tap4 metric 1024 linkdown  pref medium\n",
    "2001:660:5307:3107::/64 via fe80::2 dev tap100 metric 1024 linkdown  pref medium\n",
    "..."
   ]
  },
  {
   "cell_type": "markdown",
   "metadata": {},
   "source": [
    "In the example above you can choose the next one which is free on the Grenoble prefix list like 2001:660:5307:3108\n",
    "\n",
    "Don't forget to close the serial port connection (i.e. nc command) with the BR node.\n",
    "\n",
    "On the frontend SSH launch the ``ethos_uhcpd`` command with:\n",
    "* a free tap ``<num>`` network interface\n",
    "* a free ``<ipv6_prefix>`` on the good site. For example the first one of Grenoble site ``<ipv6_prefix>=2001:660:5307:3100``\n",
    "* the good node's ``<id>`` for the border router"
   ]
  },
  {
   "cell_type": "raw",
   "metadata": {},
   "source": [
    "<login>@<site>:~$ sudo ethos_uhcpd.py m3-<id> tap<num> <ipv6_prefix>::/64\n",
    "net.ipv6.conf.tap0.forwarding = 1\n",
    "net.ipv6.conf.tap0.accept_ra = 0\n",
    "Switch from 'root' to '<pseudo-iotlab>'\n",
    "Switch from 'root' to '<pseudo-iotlab>'\n",
    "Joining IPv6 multicast group...\n",
    "entering loop...\n",
    "----> ethos: sending hello.\n",
    "----> ethos: activating serial pass through."
   ]
  },
  {
   "cell_type": "markdown",
   "metadata": {},
   "source": [
    "This setup uses a single serial interface, ethos (Ethernet Over Serial) and UHCP (micro Host Configuration Protocol). Ethos multiplexes serial data to separate ethernet packets from shell commands. UHCP is in charge of configuring the wireless interface prefix and routes on the Border Router. Make sure to keep this terminal open until the end of the training.\n",
    "\n",
    "Now on the other node shell with the `ifconfig` command you should see a global ipv6 address:"
   ]
  },
  {
   "cell_type": "raw",
   "metadata": {},
   "source": [
    "> ifconfig\n",
    "ifconfig\n",
    "Iface  6  HWaddr: 29:36  Channel: 26  Page: 0  NID: 0x23\n",
    "          Long HWaddr: 15:11:6B:10:65:FB:A9:36 \n",
    "           TX-Power: 0dBm  State: IDLE  max. Retrans.: 3  CSMA Retries: 4 \n",
    "          AUTOACK  ACK_REQ  CSMA  L2-PDU:102 MTU:1280  HL:64  RTR  \n",
    "          RTR_ADV  6LO  IPHC  \n",
    "          Source address length: 8\n",
    "          Link type: wireless\n",
    "          inet6 addr: fe80::1711:6b10:65fb:a936  scope: local  VAL\n",
    "          inet6 addr: 2001:660:5307:3100:1711:6b10:65fb:a936  scope: global  VAL"
   ]
  },
  {
   "cell_type": "markdown",
   "metadata": {},
   "source": [
    "When a node initializes a network interface and seeks to configure its IP, it performs a procedure called neighbor discovery defined by the Neighbor Discovery Protocol, NDP. First, it sends an ICMPv6 message of type \"Router Solicitation\" and if a router is present on the same link, this sends an ICMPv6 message of type \"Router Advertisement\" containing the prefix (these are also sent periodically through the router). In this way, the node automatically configures its global IP address with the prefix.\n",
    "\n",
    "To test the node's IPv6 connectivity with internet, you could try to ping a public Google server:"
   ]
  },
  {
   "cell_type": "raw",
   "metadata": {},
   "source": [
    "> ping6 2a00:1450:4007:80f::2003\n",
    "ping6 2a00:1450:4007:80f::2003\n",
    "12 bytes from 2a00:1450:4007:80f::2003: icmp_seq=0 ttl=50 rssi=-46 dBm time=70.130 ms\n",
    "12 bytes from 2a00:1450:4007:80f::2003: icmp_seq=1 ttl=50 rssi=-46 dBm time=68.492 ms\n",
    "12 bytes from 2a00:1450:4007:80f::2003: icmp_seq=2 ttl=50 rssi=-46 dBm time=68.492 ms\n",
    "\n",
    "--- 2a00:1450:4007:80f::2003 PING statistics ---\n",
    "3 packets transmitted, 3 packets received, 0% packet loss\n",
    "round-trip min/avg/max = 68.492/69.038/70.130 ms"
   ]
  },
  {
   "cell_type": "code",
   "execution_count": null,
   "metadata": {},
   "outputs": [],
   "source": []
  },
  {
   "cell_type": "markdown",
   "metadata": {},
   "source": [
    "### Launch the commands from the third terminal\n",
    "\n",
    "From here, open a Jupyter terminal (use `File > New > Terminal`).\n",
    "\n",
    "Connect to the SSH frontend and replace `<site>` with the right value."
   ]
  },
  {
   "cell_type": "raw",
   "metadata": {},
   "source": [
    "ssh $IOTLAB_LOGIN@saclay.iot-lab.info"
   ]
  },
  {
   "cell_type": "code",
   "execution_count": null,
   "metadata": {},
   "outputs": [],
   "source": [
    "ssh root@node-a8-61"
   ]
  },
  {
   "cell_type": "code",
   "execution_count": null,
   "metadata": {},
   "outputs": [],
   "source": [
    "ip -6 -o addr show eth0"
   ]
  },
  {
   "cell_type": "code",
   "execution_count": null,
   "metadata": {},
   "outputs": [],
   "source": [
    "broker_mqtts config.conf"
   ]
  },
  {
   "cell_type": "markdown",
   "metadata": {},
   "source": [
    "### Radio sniffer\n",
    "\n",
    "One of the key feature of IoT-LAB is the automatic monitoring on energy consumption and radio activity, thanks to a Control Node, associated to the experiment node. You do not have to bring a firmware for this Control Node, but just specify its configuration through what we call a 'profile'. Each user can manage his collection of profiles. Here you will create one.\n",
    "\n",
    "Run the command to create a sniffer profile on the radio channel used here:"
   ]
  },
  {
   "cell_type": "code",
   "execution_count": null,
   "metadata": {},
   "outputs": [],
   "source": [
    "!iotlab-profile addm3 -n sniff -sniffer -channels $CHANNEL"
   ]
  },
  {
   "cell_type": "markdown",
   "metadata": {},
   "source": [
    "Then, you just have to update the profile configuration of your node which is not the BR. We use the `-e` option here, that means 'for all nodes of the experiment expected the one specified'."
   ]
  },
  {
   "cell_type": "code",
   "execution_count": null,
   "metadata": {},
   "outputs": [],
   "source": [
    "!iotlab-node --update-profile sniff -e $SITE,m3,$BR_ID"
   ]
  },
  {
   "cell_type": "markdown",
   "metadata": {},
   "source": [
    "Open a third Jupyter Terminal (use `File > New > Terminal`) and connect to the SSH frontend replacing `<site>` with the good value:"
   ]
  },
  {
   "cell_type": "raw",
   "metadata": {},
   "source": [
    "ssh $IOTLAB_LOGIN@<site>.iot-lab.info"
   ]
  },
  {
   "cell_type": "markdown",
   "metadata": {},
   "source": [
    "From the SSH frontend launch the `sniffer_aggregator` command. This tool aggregates all the nodes sniffer links (TCP socket on port 30000). By default, it encapsulates packet as ZigBee Encapsulation Protocol (ZEP). With the -r option 802.15.4 payloads are extracted and saved in a 802.15.4_link_layer pcap file directly usable in [Wireshark](https://en.wikipedia.org/wiki/Wireshark), a network packet analyser."
   ]
  },
  {
   "cell_type": "raw",
   "metadata": {},
   "source": [
    "<login>@<site>:~$ sniffer_aggregator -r -d -o - | tshark -V -i - > sniffer.pcap"
   ]
  },
  {
   "cell_type": "markdown",
   "metadata": {},
   "source": [
    "Now, go to the RIOT shell node and ping6 Google server (only once with option -c 1)"
   ]
  },
  {
   "cell_type": "raw",
   "metadata": {},
   "source": [
    "> ping6 -c 1 2a00:1450:4007:80f::2003\n",
    "ping6 -c 1 2a00:1450:4007:80f::2003\n",
    "12 bytes from 2a00:1450:4007:80f::2003: icmp_seq=0 ttl=50 rssi=-58 dBm time=65.511 ms\n",
    "\n",
    "--- 2a00:1450:4007:80f::2003 PING statistics ---\n",
    "1 packets transmitted, 1 packets received, 0% packet loss\n",
    "round-trip min/avg/max = 65.511/65.511/65.511 ms"
   ]
  },
  {
   "cell_type": "markdown",
   "metadata": {},
   "source": [
    "On the sniffer aggregator output you should see that you have captured packets. Stop it with `Ctr+C` shortcut when you have at least 6 packets captured.\n",
    "\n",
    "Display the pcap file and analyse the traffic:"
   ]
  },
  {
   "cell_type": "raw",
   "metadata": {},
   "source": [
    "<login>@<site>:~$ less sniffer.pcap  \n",
    "# use Q character shortcut to exit"
   ]
  },
  {
   "cell_type": "markdown",
   "metadata": {},
   "source": [
    "From the frame1 (first packet) you can see the IEEE 802.15.4 data, 6LoWPAN and Internet Protocol version 6 layer.\n",
    "\n",
    "* In the 802.15.4 section you can see the MAC address of the source and destination packet. You can retrieve the MAC address of your node which executes the ping6 address in the Src field.\n",
    "\n",
    "* In the 6LoWPAN section you can see the IPV6 address of the source and destination packet.\n",
    "\n",
    "* In the IPv6 section you can see the ICMP message which corresponds to a Echo ping request (ping6 command)\n",
    "\n",
    "From the frame2 you should see the ICMP message from the Google server which corresponds to Echo ping reply.\n",
    "\n",
    "In the next frames you can discover the Neighbor Discovery Protocol traffic between the border router and the node. You should see Neighbor Solicitation and Advertisement message exchanged  between the border router and the node.\n"
   ]
  },
  {
   "cell_type": "markdown",
   "metadata": {},
   "source": [
    "### Free up the resources\n",
    "\n",
    "Since you finished the training, stop your experiment to free up the experiment nodes:"
   ]
  },
  {
   "cell_type": "code",
   "execution_count": 87,
   "metadata": {},
   "outputs": [
    {
     "name": "stdout",
     "output_type": "stream",
     "text": [
      "{\n",
      "    \"id\": 272580,\n",
      "    \"status\": \"Delete request registered\"\n",
      "}\n"
     ]
    }
   ],
   "source": [
    "!iotlab-experiment stop"
   ]
  },
  {
   "cell_type": "markdown",
   "metadata": {},
   "source": [
    "The serial link connection through SSH and the ethos process will be closed automatically."
   ]
  }
 ],
 "metadata": {
  "kernelspec": {
   "display_name": "Python 3",
   "language": "python",
   "name": "python3"
  },
  "language_info": {
   "codemirror_mode": {
    "name": "ipython",
    "version": 3
   },
   "file_extension": ".py",
   "mimetype": "text/x-python",
   "name": "python",
   "nbconvert_exporter": "python",
   "pygments_lexer": "ipython3",
   "version": "3.8.6"
  }
 },
 "nbformat": 4,
 "nbformat_minor": 4
}
